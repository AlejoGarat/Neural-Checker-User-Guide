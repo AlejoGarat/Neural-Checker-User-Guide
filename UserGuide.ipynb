{
 "cells": [
  {
   "cell_type": "markdown",
   "metadata": {},
   "source": [
    "# Neural Checker User Guide"
   ]
  },
  {
   "cell_type": "markdown",
   "metadata": {},
   "source": [
    "The aim of this notebook is to provide a step-by-step guide to using the Neural Checker tool. It is developed at the Department of Artificial Intelligence and Big Data of the Universidad ORT. Its main goal is to provide implementations for the structures needed for working in the Model Extraction Framework and enable the explainability and checking of complex systems in a black box context."
   ]
  },
  {
   "cell_type": "markdown",
   "metadata": {},
   "source": [
    "## Pythautomata"
   ]
  },
  {
   "cell_type": "markdown",
   "metadata": {},
   "source": [
    "### Installation"
   ]
  },
  {
   "cell_type": "code",
   "execution_count": null,
   "metadata": {},
   "outputs": [],
   "source": [
    "%pip install pythautomata"
   ]
  },
  {
   "cell_type": "markdown",
   "metadata": {},
   "source": [
    "## Automatons"
   ]
  },
  {
   "cell_type": "markdown",
   "metadata": {},
   "source": [
    "### Moore machines"
   ]
  },
  {
   "cell_type": "markdown",
   "metadata": {},
   "source": [
    "#### Creating a Moore machine"
   ]
  },
  {
   "cell_type": "markdown",
   "metadata": {},
   "source": [
    "##### Dependencies"
   ]
  },
  {
   "cell_type": "code",
   "execution_count": null,
   "metadata": {},
   "outputs": [],
   "source": [
    "from pythautomata.base_types.alphabet import Alphabet\n",
    "from pythautomata.base_types.moore_state import MooreState\n",
    "from pythautomata.base_types.symbol import SymbolStr\n",
    "from pythautomata.automata.moore_machine_automaton import MooreMachineAutomaton\n",
    "from pythautomata.model_comparators.moore_machine_comparison_strategy import MooreMachineComparisonStrategy as ComparisonStrategy\n",
    "from pythautomata.model_exporters.dot_exporting_mm_strategy import DotExportingMMStrategy"
   ]
  },
  {
   "cell_type": "markdown",
   "metadata": {},
   "source": [
    "##### Implementation"
   ]
  },
  {
   "cell_type": "code",
   "execution_count": null,
   "metadata": {},
   "outputs": [],
   "source": [
    "# First we create an input alphabet with symbols a, b and c\n",
    "input_alphabet = Alphabet(frozenset((SymbolStr('a'), SymbolStr('b'), SymbolStr('c'))))\n",
    "# Then the output alphabet with symbols 0 and 1\n",
    "output_alphabet = Alphabet(frozenset((SymbolStr('0'), SymbolStr('1'))))\n",
    "\n",
    "a = input_alphabet['a']\n",
    "b = input_alphabet['b']\n",
    "c = input_alphabet['c']\n",
    "\n",
    "# Defining moore states\n",
    "stateA = MooreState(name=\"State A\", value=output_alphabet['0'])\n",
    "stateB = MooreState(\"State B\", output_alphabet['1'])\n",
    "stateC = MooreState(\"State C\", output_alphabet['1'])\n",
    "\n",
    "# Adding transitions for the previous states\n",
    "stateA.add_transition(a, stateA)\n",
    "stateA.add_transition(b, stateB)\n",
    "stateB.add_transition(a, stateC)\n",
    "stateB.add_transition(c, stateB)\n",
    "\n",
    "# Finaly we create the moore machine with the alphabets and states previously created \n",
    "moore_machine = MooreMachineAutomaton(input_alphabet, output_alphabet, initial_state=stateA, states=set([stateA, stateB, stateC]), comparator=ComparisonStrategy, name=\"moore machine with 3 states\", exportingStrategies=[DotExportingMMStrategy()])\n",
    "\n",
    "# Moore machine is exported in the directory ./output_models/moore_machines/ with .dot extension\n",
    "moore_machine.export('./output_models/moore_machines/')"
   ]
  },
  {
   "cell_type": "markdown",
   "metadata": {},
   "source": [
    "### Mealy machines"
   ]
  },
  {
   "cell_type": "markdown",
   "metadata": {},
   "source": [
    "#### Creating a Mealy machine"
   ]
  },
  {
   "cell_type": "markdown",
   "metadata": {},
   "source": [
    "##### Dependencies"
   ]
  },
  {
   "cell_type": "markdown",
   "metadata": {},
   "source": [
    "##### Implementation"
   ]
  },
  {
   "cell_type": "markdown",
   "metadata": {},
   "source": [
    "### Generators"
   ]
  },
  {
   "cell_type": "markdown",
   "metadata": {},
   "source": [
    "#### Moore machine generator"
   ]
  },
  {
   "cell_type": "markdown",
   "metadata": {},
   "source": [
    "##### Dependencies"
   ]
  },
  {
   "cell_type": "code",
   "execution_count": null,
   "metadata": {},
   "outputs": [],
   "source": [
    "from pythautomata.utilities.nicaud_mm_generator import generate_moore_machine"
   ]
  },
  {
   "cell_type": "markdown",
   "metadata": {},
   "source": [
    "##### Implementation"
   ]
  },
  {
   "cell_type": "code",
   "execution_count": null,
   "metadata": {},
   "outputs": [],
   "source": [
    "# Number of states\n",
    "number_of_states = 90\n",
    "\n",
    "generated_moore_machine = generate_moore_machine(input_alphabet, output_alphabet, number_of_states, seed=100)\n",
    "# The seed is an optional param\n",
    "\n",
    "# Moore machine is exported in the directory ./output_models/moore_machines/\n",
    "generated_moore_machine.export('./output_models/moore_machines/')"
   ]
  },
  {
   "cell_type": "code",
   "execution_count": null,
   "metadata": {},
   "outputs": [],
   "source": [
    "# Generate a random Moore Machine with 500 states\n",
    "input_alphabet = Alphabet.from_strings([\"a\", \"b\", \"c\"])\n",
    "output_alphabet = Alphabet.from_strings(['0', '1'])\n",
    "seed = 100\n",
    "number_of_states = 500\n",
    "automata = generate_moore_machine(input_alphabet, output_alphabet, number_of_states, seed)"
   ]
  },
  {
   "cell_type": "markdown",
   "metadata": {},
   "source": [
    "#### Mealy machine generator"
   ]
  },
  {
   "cell_type": "markdown",
   "metadata": {},
   "source": [
    "##### Dependencies"
   ]
  },
  {
   "cell_type": "markdown",
   "metadata": {},
   "source": [
    "##### Implementation"
   ]
  },
  {
   "cell_type": "markdown",
   "metadata": {},
   "source": [
    "### Comparators and converters"
   ]
  },
  {
   "cell_type": "markdown",
   "metadata": {},
   "source": [
    "#### DFA - Moore machine comparator and converter"
   ]
  },
  {
   "cell_type": "markdown",
   "metadata": {},
   "source": [
    "##### Dependencies"
   ]
  },
  {
   "cell_type": "code",
   "execution_count": null,
   "metadata": {},
   "outputs": [],
   "source": [
    "from pythautomata.model_comparators.moore_machine_comparison_strategy import MooreMachineComparisonStrategy\n",
    "from pythautomata.utilities.automata_converter import AutomataConverter\n",
    "from pythautomata.automata_definitions.tomitas_grammars import TomitasGrammars\n",
    "from pythautomata.automata_definitions.sample_moore_machines import SampleMooreMachines"
   ]
  },
  {
   "cell_type": "markdown",
   "metadata": {},
   "source": [
    "##### Implementation"
   ]
  },
  {
   "cell_type": "code",
   "execution_count": null,
   "metadata": {},
   "outputs": [],
   "source": [
    "# Tomitas DFA example\n",
    "tomitas = TomitasGrammars.get_automaton_1()\n",
    "\n",
    "# Convert tomitas DFA to moore machine\n",
    "converted_moore_machine = AutomataConverter.convert_dfa_to_moore_machine(tomitas)\n",
    "\n",
    "# Manually created tomitas moore machine\n",
    "tomitas_moore_machine = SampleMooreMachines.get_tomitas_automaton_1()\n",
    "\n",
    "# Comparate tomitas automatons\n",
    "converted_moore_machine.__eq__(tomitas_moore_machine)"
   ]
  },
  {
   "cell_type": "markdown",
   "metadata": {},
   "source": [
    "## PyModelextractor"
   ]
  },
  {
   "cell_type": "markdown",
   "metadata": {},
   "source": [
    "### Installation"
   ]
  },
  {
   "cell_type": "code",
   "execution_count": null,
   "metadata": {},
   "outputs": [],
   "source": [
    "%pip install pymodelextractor"
   ]
  },
  {
   "cell_type": "markdown",
   "metadata": {},
   "source": [
    "## Observation Table algorithms"
   ]
  },
  {
   "cell_type": "markdown",
   "metadata": {},
   "source": [
    "### General L*"
   ]
  },
  {
   "cell_type": "markdown",
   "metadata": {},
   "source": [
    "#### Dependencies"
   ]
  },
  {
   "cell_type": "code",
   "execution_count": null,
   "metadata": {},
   "outputs": [],
   "source": [
    "from pythautomata.model_comparators.moore_machine_comparison_strategy import MooreMachineComparisonStrategy\n",
    "from pymodelextractor.learners.observation_table_learners.mm_lstar_learner import MMLStarLearner as MooreMachineLearner\n",
    "from pymodelextractor.teachers.moore_machines_teacher import MooreMachineTeacher as MMTeacher\n",
    "from pythautomata.automata_definitions.sample_moore_machines import SampleMooreMachines"
   ]
  },
  {
   "cell_type": "markdown",
   "metadata": {},
   "source": [
    "#### Implementation using a Moore machine"
   ]
  },
  {
   "cell_type": "code",
   "execution_count": null,
   "metadata": {},
   "outputs": [],
   "source": [
    "# Create the Moore Machine Learner that implements the L* algorithm\n",
    "learner = MooreMachineLearner()\n",
    "\n",
    "# Import a sample Moore Machine\n",
    "moore_machine = SampleMooreMachines.get_tomitas_automaton_1()\n",
    "\n",
    "# Create the teacher for the Moore Machine Learner\n",
    "mm_teacher = MMTeacher(moore_machine, MooreMachineComparisonStrategy())\n",
    "\n",
    "# Learn the generated Moore Machine\n",
    "teacher = mm_teacher\n",
    "result = learner.learn(teacher, verbose=True) \n",
    "# verbose=True prints the learning process, the default value is False\n",
    "\n",
    "\n",
    "# Show that the learned Moore Machine is equivalent to the generated Moore Machine\n",
    "print(\"Are equal: \", MooreMachineComparisonStrategy().are_equivalent(\n",
    "    result.model, moore_machine))\n",
    "\n",
    "# Export the learned Moore Machine\n",
    "result.model.export('./output_models/mm_lstar/')"
   ]
  },
  {
   "cell_type": "markdown",
   "metadata": {},
   "source": [
    "#### Implementation using a DFA"
   ]
  },
  {
   "cell_type": "markdown",
   "metadata": {},
   "source": [
    "## Observation Tree algorithms"
   ]
  },
  {
   "cell_type": "markdown",
   "metadata": {},
   "source": [
    "### Observation Pack"
   ]
  },
  {
   "cell_type": "markdown",
   "metadata": {},
   "source": [
    "#### Dependencies"
   ]
  },
  {
   "cell_type": "markdown",
   "metadata": {},
   "source": [
    "#### Implementation"
   ]
  },
  {
   "cell_type": "markdown",
   "metadata": {},
   "source": [
    "### Kearns and Vazirani"
   ]
  },
  {
   "cell_type": "markdown",
   "metadata": {},
   "source": [
    "#### Dependencies"
   ]
  },
  {
   "cell_type": "markdown",
   "metadata": {},
   "source": [
    "#### Implementation"
   ]
  }
 ],
 "metadata": {
  "kernelspec": {
   "display_name": "Python 3",
   "language": "python",
   "name": "python3"
  },
  "language_info": {
   "codemirror_mode": {
    "name": "ipython",
    "version": 3
   },
   "file_extension": ".py",
   "mimetype": "text/x-python",
   "name": "python",
   "nbconvert_exporter": "python",
   "pygments_lexer": "ipython3",
   "version": "3.9.13"
  },
  "orig_nbformat": 4,
  "vscode": {
   "interpreter": {
    "hash": "f0fe363e8ab1410fba4120e165ad8d88c45f7211f02c52f0870ffe77e2f67f72"
   }
  }
 },
 "nbformat": 4,
 "nbformat_minor": 2
}
